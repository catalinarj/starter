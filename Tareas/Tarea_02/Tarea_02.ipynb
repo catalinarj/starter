{
  "nbformat": 4,
  "nbformat_minor": 0,
  "metadata": {
    "colab": {
      "provenance": []
    },
    "kernelspec": {
      "name": "python3",
      "display_name": "Python 3"
    },
    "language_info": {
      "name": "python"
    }
  },
  "cells": [
    {
      "cell_type": "markdown",
      "source": [
        "#Tarea 2\n",
        "\n",
        "1. Hacer un programa que imprima los números del 1 al 100, en python sería:"
      ],
      "metadata": {
        "id": "cTEMl11kjDAu"
      }
    },
    {
      "cell_type": "code",
      "source": [
        "for x in range(100):\n",
        "  print(x+1)"
      ],
      "metadata": {
        "id": "goV75XY8jGlY"
      },
      "execution_count": null,
      "outputs": []
    },
    {
      "cell_type": "markdown",
      "source": [
        "2. Hacer un programa que imprima los números del 1 al 100 que sean divisibles entre 3 (con resto 0)"
      ],
      "metadata": {
        "id": "c5QQReO-kyx2"
      }
    },
    {
      "cell_type": "code",
      "source": [
        "for x in range(100):\n",
        "\n",
        "  if (x+1) % 3 == 0:\n",
        "    print(x+1)"
      ],
      "metadata": {
        "id": "lS79qi5yk5-D"
      },
      "execution_count": null,
      "outputs": []
    },
    {
      "cell_type": "markdown",
      "source": [
        "3. Realiza el algoritmo para un sumador de dos números. Si el resultado es menor a 100, se mostrará el mensaje \"menor a 100\"; si el resultado es mayor a 100, pero menor a 150 mostrará el mensaje \"mayor a 100\"; pero si es mayor a 150 mostrará el mensaje \"mayor a 150\"."
      ],
      "metadata": {
        "id": "O9gZ0usUmgj1"
      }
    },
    {
      "cell_type": "code",
      "source": [
        "numero_1 = int(input(\"Ingresa un número\"))\n",
        "numero_2 = 5\n",
        "suma = numero_1 + numero_2\n",
        "resultado = \"\"\n",
        "\n",
        "if(suma<100):\n",
        "  resultado = \"menor a 100\"\n",
        "elif(suma>=100 and suma<150):\n",
        "  resultado = \"mayor a 100\"\n",
        "elif(suma>=150):\n",
        "  resultado = \"menor a 150\"\n",
        "\n",
        "print(resultado)"
      ],
      "metadata": {
        "id": "8ENF3MB6nB9U"
      },
      "execution_count": null,
      "outputs": []
    },
    {
      "cell_type": "markdown",
      "source": [
        "Generar un programa que combine variables, tipos de datos y una condicional en Python (hacer una función que evalúe si el usuario es mayor de edad y si le gusta la programación, que envíe diferentes textos según la respuesta del usuario)"
      ],
      "metadata": {
        "id": "KJMGr0s-971q"
      }
    },
    {
      "cell_type": "code",
      "source": [
        "numero_1 = int(input(\"¿Cuál es tu edad? \"))\n",
        "programar_1 = (input(\"¿Te gusta la programación? \"))\n",
        "edad = numero_1\n",
        "respuesta = programar_1\n",
        "resultado = \"\"\n",
        "\n",
        "if(edad<18 and respuesta == \"sí\"):\n",
        "  resultado = \"Eres menor de edad y te gusta la programación.\"\n",
        "elif(edad<18 and respuesta == \"no\"):\n",
        "  resultado = \"Eres menor de edad y no te gusta la programación.\"\n",
        "elif(edad>=18 and respuesta == \"sí\"):\n",
        "  resultado = \"Eres mayor de edad y te gusta la programación.\"\n",
        "elif(edad>=18 and respuesta == \"no\"):\n",
        "  resultado = \"Eres mayor de edad y no te gusta la programación.\"\n",
        "\n",
        "print(resultado)"
      ],
      "metadata": {
        "id": "VbZRXY8IAKQL"
      },
      "execution_count": null,
      "outputs": []
    }
  ]
}